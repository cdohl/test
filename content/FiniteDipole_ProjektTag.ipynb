{
 "cells": [
  {
   "cell_type": "code",
   "execution_count": 1,
   "id": "b0a719e7-b283-4564-b2d2-22fb6021aeea",
   "metadata": {},
   "outputs": [
    {
     "data": {
      "application/vnd.jupyter.widget-view+json": {
       "model_id": "e0aaf9a01b5541e880770d7fe13adb64",
       "version_major": 2,
       "version_minor": 0
      },
      "text/plain": [
       "interactive(children=(FloatSlider(value=1.0, description='Electrical Half-lengths:', layout=Layout(height='50p…"
      ]
     },
     "metadata": {},
     "output_type": "display_data"
    },
    {
     "data": {
      "text/plain": [
       "<function __main__.my_function(x)>"
      ]
     },
     "execution_count": 1,
     "metadata": {},
     "output_type": "execute_result"
    }
   ],
   "source": [
    "#add a slider\n",
    "#L values from 0.1 to 3\n",
    "import numpy as np\n",
    "import matplotlib.pyplot as plt\n",
    "from ipywidgets import interact, FloatSlider, Layout\n",
    "\n",
    "#ignore error\n",
    "np.seterr(divide='ignore', invalid='ignore')\n",
    "\n",
    "#Wavelength\n",
    "lam = 1;\n",
    "#Phase constant\n",
    "B = 2*np.pi/lam;\n",
    "t = np.linspace(0, 2*np.pi, 360);\n",
    "\n",
    "def my_function(x):\n",
    "    #Dipole antenna\n",
    "    L = x*lam;\n",
    "    #Far-field pattern equation    \n",
    "    E = np.abs((np.cos(B*L/2*np.cos(t))-np.cos(B*L/2))/np.sin(t));\n",
    "    #plot figure\n",
    "    fig = plt.figure(figsize=(5, 5))\n",
    "    ax = fig.add_subplot(111, polar=True)\n",
    "    ax.set_rlim(0,3)\n",
    "    ax.set_yticklabels([])\n",
    "    ax.plot(t,E)\n",
    "    plt.show()\n",
    "\n",
    "#create a slider\n",
    "style = {'description_width': 'initial'}          #to fit in the long description\n",
    "interact(my_function, x=FloatSlider(\n",
    "    value=1.0,\n",
    "    min=0.1,\n",
    "    max=3.0,\n",
    "    step=0.01,\n",
    "    description='Electrical Half-lengths:',\n",
    "    style=style,\n",
    "    layout=Layout(width='50%', height='50px')))"
   ]
  },
  {
   "cell_type": "code",
   "execution_count": 3,
   "id": "b72a1e10-7f2c-4507-8aa0-ff3ed8feda81",
   "metadata": {},
   "outputs": [
    {
     "data": {
      "application/vnd.jupyter.widget-view+json": {
       "model_id": "5289383dceb342c2a7318311c0a4be29",
       "version_major": 2,
       "version_minor": 0
      },
      "text/plain": [
       "interactive(children=(FloatSlider(value=1.0, description='Electrical Half-lengths:', layout=Layout(height='50p…"
      ]
     },
     "metadata": {},
     "output_type": "display_data"
    },
    {
     "data": {
      "text/plain": [
       "<function __main__.plot_dipole(x)>"
      ]
     },
     "execution_count": 3,
     "metadata": {},
     "output_type": "execute_result"
    }
   ],
   "source": [
    "#Add in slider\n",
    "import numpy as np\n",
    "import plotly.graph_objects as go\n",
    "from ipywidgets import interact\n",
    "from plotly.subplots import make_subplots\n",
    "\n",
    "# Define constants\n",
    "lambda_ = 1.0  # Wavelength (in meters)\n",
    "k = 2 * np.pi / lambda_  # Wave number\n",
    "theta = np.linspace(0, 2 * np.pi, 360)  # Azimuthal angle\n",
    "phi = np.linspace(0, np.pi, 180)  # Elevation angle\n",
    "theta_grid, phi_grid = np.meshgrid(theta, phi)\n",
    "\n",
    "def plot_dipole(x):\n",
    "    # Far-field pattern for a finite dipole antenna\n",
    "    L = x*lambda_\n",
    "    E = np.abs((np.cos(k*L/2*np.cos(phi_grid))-np.cos(k*L/2))/np.sin(phi_grid));\n",
    "    \n",
    "    # Convert spherical coordinates to Cartesian coordinates\n",
    "    X = E * np.sin(phi_grid) * np.cos(theta_grid)\n",
    "    Y = E * np.sin(phi_grid) * np.sin(theta_grid)\n",
    "    Z = E * np.cos(phi_grid)\n",
    "    \n",
    "    # Compute 2D polar plot data (average E over azimuth angles)\n",
    "    E_polar = np.abs((np.cos(k*L/2*np.cos(theta))-np.cos(k*L/2))/np.sin(theta))\n",
    "\n",
    "    # Create a subplot layout for the polar plot on the left and 3D plot on the right\n",
    "    fig = make_subplots(\n",
    "        rows=1, cols=2,\n",
    "        specs=[[{'type': 'polar'}, {'type': 'surface'}]],\n",
    "    )\n",
    "\n",
    "    # Add the polar plot\n",
    "    fig.add_trace(\n",
    "        go.Scatterpolar(\n",
    "            r=E_polar,  # Radial coordinate\n",
    "            theta=np.degrees(theta),  # Convert phi to degrees\n",
    "            mode='lines',\n",
    "            line=dict(color='blue'),\n",
    "            name='Far Field Pattern'\n",
    "        ),\n",
    "        row=1, col=1\n",
    "    )\n",
    "\n",
    "    # Add the 3D surface plot\n",
    "    fig.add_trace(\n",
    "        go.Surface(\n",
    "            x=Z, y=Y, z=X,\n",
    "            surfacecolor=E,\n",
    "            colorscale='Viridis',\n",
    "            colorbar=dict(title='E (Far Field)'),\n",
    "            opacity=0.8\n",
    "        ),\n",
    "        row=1, col=2\n",
    "    )\n",
    "\n",
    "    # Update layout for better visualization\n",
    "    fig.update_layout(\n",
    "        title=f'Far-Field Pattern: L = {L:.2f} λ',\n",
    "        height=500,\n",
    "        showlegend=False,\n",
    "        polar = dict(\n",
    "            radialaxis = dict(range=[0, 3], showticklabels=False, ticks=''),  #don't show polar label and fix range\n",
    "#            angularaxis = dict(showticklabels=False, ticks='')\n",
    "        ),\n",
    "        scene=dict(\n",
    "            xaxis=dict(showticklabels=False),\n",
    "            yaxis=dict(showticklabels=False),\n",
    "            zaxis=dict(showticklabels=False),\n",
    "    )\n",
    "    )\n",
    "\n",
    "    # Show the plot\n",
    "    fig.show()\n",
    "\n",
    "# Use interact to create a slider for L\n",
    "#interact(plot_dipole, x=(0.10, 3.00, 0.01))\n",
    "#create a slider\n",
    "style = {'description_width': 'initial'}          #to fit in the long description\n",
    "interact(plot_dipole, x=FloatSlider(\n",
    "    value=1.0,\n",
    "    min=0.1,\n",
    "    max=3.0,\n",
    "    step=0.01,\n",
    "    description='Electrical Half-lengths:',\n",
    "    style=style,\n",
    "    layout=Layout(width='80%', height='50px')))"
   ]
  },
  {
   "cell_type": "code",
   "execution_count": null,
   "id": "00d2d791-d4cf-412e-890c-42f5febf89a6",
   "metadata": {},
   "outputs": [],
   "source": []
  }
 ],
 "metadata": {
  "kernelspec": {
   "display_name": "Python 3 (ipykernel)",
   "language": "python",
   "name": "python3"
  },
  "language_info": {
   "codemirror_mode": {
    "name": "ipython",
    "version": 3
   },
   "file_extension": ".py",
   "mimetype": "text/x-python",
   "name": "python",
   "nbconvert_exporter": "python",
   "pygments_lexer": "ipython3",
   "version": "3.12.3"
  }
 },
 "nbformat": 4,
 "nbformat_minor": 5
}
